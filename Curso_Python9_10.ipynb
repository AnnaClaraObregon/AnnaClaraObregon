{
  "nbformat": 4,
  "nbformat_minor": 0,
  "metadata": {
    "colab": {
      "provenance": [],
      "authorship_tag": "ABX9TyPnAitNpGxDMblO4SHkVGGm",
      "include_colab_link": true
    },
    "kernelspec": {
      "name": "python3",
      "display_name": "Python 3"
    },
    "language_info": {
      "name": "python"
    }
  },
  "cells": [
    {
      "cell_type": "markdown",
      "metadata": {
        "id": "view-in-github",
        "colab_type": "text"
      },
      "source": [
        "<a href=\"https://colab.research.google.com/github/AnnaClaraObregon/AnnaClaraObregon/blob/main/Curso_Python9_10.ipynb\" target=\"_parent\"><img src=\"https://colab.research.google.com/assets/colab-badge.svg\" alt=\"Open In Colab\"/></a>"
      ]
    },
    {
      "cell_type": "markdown",
      "source": [
        "**AULA PYTHON (9/10/25)**"
      ],
      "metadata": {
        "id": "U6X8WNmP-laS"
      }
    },
    {
      "cell_type": "code",
      "execution_count": null,
      "metadata": {
        "colab": {
          "base_uri": "https://localhost:8080/"
        },
        "collapsed": true,
        "id": "mDWE0HewzM43",
        "outputId": "4001201b-6165-4516-c1eb-f1fb9518f589"
      },
      "outputs": [
        {
          "output_type": "stream",
          "name": "stdout",
          "text": [
            "2\n",
            "2\n",
            "3\n",
            "3\n",
            "3.0\n"
          ]
        }
      ],
      "source": [
        "texto = \"2\"\n",
        "texto2 =str(2)\n",
        "numero = 3\n",
        "numero1 = int(3)\n",
        "numero2 = float(3)\n",
        "\n",
        "print(texto)\n",
        "print(texto2)\n",
        "print(numero)\n",
        "print(numero1)\n",
        "print(numero2)"
      ]
    },
    {
      "cell_type": "code",
      "source": [
        "print(2*numero1)\n",
        "print(2*2)"
      ],
      "metadata": {
        "colab": {
          "base_uri": "https://localhost:8080/"
        },
        "id": "uk-t5RR0-fbj",
        "outputId": "678662bd-6436-47a7-d68e-174aa75acf8c"
      },
      "execution_count": null,
      "outputs": [
        {
          "output_type": "stream",
          "name": "stdout",
          "text": [
            "6\n",
            "4\n"
          ]
        }
      ]
    },
    {
      "cell_type": "code",
      "source": [
        "print(\"O valor da variável é: \", texto)"
      ],
      "metadata": {
        "colab": {
          "base_uri": "https://localhost:8080/"
        },
        "id": "837qXuIi-Xsl",
        "outputId": "55cc1534-3dfb-4509-81a8-7bf3de0eb786"
      },
      "execution_count": null,
      "outputs": [
        {
          "output_type": "stream",
          "name": "stdout",
          "text": [
            "O valor da variável é:  2\n"
          ]
        }
      ]
    },
    {
      "cell_type": "code",
      "source": [
        "print(\"O valor da variável é:\",texto, \"e o valor da variável numero é:\",numero)"
      ],
      "metadata": {
        "colab": {
          "base_uri": "https://localhost:8080/"
        },
        "id": "a3gniiKv-0XX",
        "outputId": "b1db8afd-c0d7-4d65-cb8f-6f371c8b96cd"
      },
      "execution_count": null,
      "outputs": [
        {
          "output_type": "stream",
          "name": "stdout",
          "text": [
            "O valor da variável é: 2 e o valor da aviável numero é: 3\n"
          ]
        }
      ]
    },
    {
      "cell_type": "code",
      "source": [
        "nome = input(\"Digite seu nome: \")\n",
        "print(\"Olá\", nome)"
      ],
      "metadata": {
        "colab": {
          "base_uri": "https://localhost:8080/"
        },
        "id": "7Sld5uJcAn_J",
        "outputId": "5d926ff8-955f-4334-d5c4-6b58fe12f218"
      },
      "execution_count": null,
      "outputs": [
        {
          "output_type": "stream",
          "name": "stdout",
          "text": [
            "Digite seu nome: Caio feio\n",
            "Olá Caio feio\n"
          ]
        }
      ]
    },
    {
      "cell_type": "code",
      "source": [
        "valor_uni = float(input(\"Digite o valor unitário: \"))\n",
        "quantidade = int(input(\"Informe a quantidade de produtos: \"))\n",
        "print(\"O valor total da compra é: \", valor_uni*quantidade)"
      ],
      "metadata": {
        "colab": {
          "base_uri": "https://localhost:8080/"
        },
        "id": "wXvY4OYQFXXP",
        "outputId": "5d5d4ff1-05e4-4cd7-e124-47cdb1d63357"
      },
      "execution_count": null,
      "outputs": [
        {
          "output_type": "stream",
          "name": "stdout",
          "text": [
            "Digite o valor unitário: 10\n",
            "Informe a quantidade de produtos: 100\n",
            "O valor total da compra é:  1000.0\n"
          ]
        }
      ]
    },
    {
      "cell_type": "code",
      "source": [
        "valor_uni = float(input(\"Digite o valor unitário: \"))\n",
        "quantidade = int(input(\"Informe a quantidade de produtos: \"))\n",
        "total = round(valor_uni*quantidade) #arredonda o retorno\n",
        "print(\"O valor total da compra é: \", total)"
      ],
      "metadata": {
        "colab": {
          "base_uri": "https://localhost:8080/"
        },
        "id": "tdgpVvQzHGLi",
        "outputId": "b2c49208-35b7-488f-a805-d8d6cd7eb839"
      },
      "execution_count": null,
      "outputs": [
        {
          "output_type": "stream",
          "name": "stdout",
          "text": [
            "Digite o valor unitário: 12\n",
            "Informe a quantidade de produtos: 2\n",
            "O valor total da compra é:  24\n"
          ]
        }
      ]
    },
    {
      "cell_type": "markdown",
      "source": [
        "EXERCICIOS"
      ],
      "metadata": {
        "id": "blfrw4tpPS38"
      }
    },
    {
      "cell_type": "code",
      "source": [
        "# EX1 - Crie um programa para efetuar a leitura de um número inteiro e apresentar o resultado do quadrado deste número\n",
        "#import math\n",
        "numero = int(input(\"Escreva um número:\"))\n",
        "# quadrado_numero = math.pow(numero,2)\n",
        "quadrado_numero = numero*numero\n",
        "print(\"O quadrado do número é:\", quadrado_numero)\n"
      ],
      "metadata": {
        "colab": {
          "base_uri": "https://localhost:8080/"
        },
        "id": "2ze89sdXPR-j",
        "outputId": "328c9e89-a8b5-471b-ad29-83556797835a"
      },
      "execution_count": null,
      "outputs": [
        {
          "output_type": "stream",
          "name": "stdout",
          "text": [
            "Escreva um número:10\n",
            "O quadrado do número é: 100\n"
          ]
        }
      ]
    },
    {
      "cell_type": "code",
      "source": [
        "# EX2\n",
        "caractere1 = input(\"Escreva o primeiro caractere:\")\n",
        "caractere2 = input(\"Escreva o segundo caractere:\")\n",
        "print(f\"O usuário digitou {caractere1} e {caractere2}\")\n"
      ],
      "metadata": {
        "colab": {
          "base_uri": "https://localhost:8080/"
        },
        "id": "I0c_479BQRPu",
        "outputId": "cefd0b1b-bb25-4c94-c618-d0047b2050ca"
      },
      "execution_count": null,
      "outputs": [
        {
          "output_type": "stream",
          "name": "stdout",
          "text": [
            "Escreva o primeiro caractere:oi\n",
            "Escreva o segundo caractere:ei\n",
            "O usuário digitou oi e ei\n"
          ]
        }
      ]
    },
    {
      "cell_type": "code",
      "source": [
        "# EX3\n",
        "numero = int(input(\"Escreva um número:\"))\n",
        "sucessor = numero+1\n",
        "antecessor = numero-1\n",
        "print(\"Seu antecessor é\",antecessor )\n",
        "print(\"Seu sucessor é\", sucessor)"
      ],
      "metadata": {
        "colab": {
          "base_uri": "https://localhost:8080/"
        },
        "id": "Ix1Z9bJLRXUV",
        "outputId": "b7e757b1-d367-4095-e0b3-389fdbff0b98"
      },
      "execution_count": null,
      "outputs": [
        {
          "output_type": "stream",
          "name": "stdout",
          "text": [
            "Escreva um número:2\n",
            "Seu antecessor é 1\n",
            "Seu sucessor é 3\n"
          ]
        }
      ]
    },
    {
      "cell_type": "code",
      "source": [
        "# EX4\n",
        "A = int(input(\"Escreva lado A: \"))\n",
        "B = int(input(\"Escreva lado B: \"))\n",
        "area = A*B\n",
        "perimetro = 2*(A+B)\n",
        "print(\"Área é:\",area)\n",
        "print(\"Perimetro é:\", perimetro)\n"
      ],
      "metadata": {
        "colab": {
          "base_uri": "https://localhost:8080/"
        },
        "id": "zePZyR2zR7j5",
        "outputId": "41e58823-f31a-4174-c1ce-45eb3216432a"
      },
      "execution_count": null,
      "outputs": [
        {
          "output_type": "stream",
          "name": "stdout",
          "text": [
            "Escreva lado A: 2\n",
            "Escreva lado B: 3\n",
            "Área é: 6\n",
            "Perimetro é: 10\n"
          ]
        }
      ]
    },
    {
      "cell_type": "code",
      "source": [
        "# EX5\n",
        "valor = float(input(\"Escreva o valor: \"))\n",
        "taxa = float(input(\"Escreva o taxa: \"))\n",
        "tempo = int(input(\"Escreva a tempo: \"))\n",
        "\n",
        "prestacao = valor+(valor*(taxa/100)*tempo)\n",
        "print(\"O valor da sua prestação em atraso é:\", prestacao)\n",
        "\n"
      ],
      "metadata": {
        "colab": {
          "base_uri": "https://localhost:8080/"
        },
        "id": "jyHrvfyIUPKe",
        "outputId": "cced3199-f742-4cc6-b7a5-7a70c3f5c534"
      },
      "execution_count": null,
      "outputs": [
        {
          "output_type": "stream",
          "name": "stdout",
          "text": [
            "Escreva o valor: 10\n",
            "Escreva o taxa: 12\n",
            "Escreva a tempo: 1\n",
            "O valor de sua prestação em atraso é: 11.2\n"
          ]
        }
      ]
    }
  ]
}